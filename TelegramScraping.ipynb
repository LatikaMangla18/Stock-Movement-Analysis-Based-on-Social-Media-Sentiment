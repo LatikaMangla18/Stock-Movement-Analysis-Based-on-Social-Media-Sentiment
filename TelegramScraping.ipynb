{
 "cells": [
  {
   "cell_type": "markdown",
   "metadata": {},
   "source": [
    "Connecting to telegram"
   ]
  },
  {
   "cell_type": "code",
   "execution_count": 5,
   "metadata": {},
   "outputs": [
    {
     "ename": "RuntimeError",
     "evalue": "You must use \"async with\" if the event loop is running (i.e. you are inside an \"async def\")",
     "output_type": "error",
     "traceback": [
      "\u001b[1;31m---------------------------------------------------------------------------\u001b[0m",
      "\u001b[1;31mRuntimeError\u001b[0m                              Traceback (most recent call last)",
      "Cell \u001b[1;32mIn[5], line 43\u001b[0m\n\u001b[0;32m     40\u001b[0m     \u001b[38;5;28mprint\u001b[39m(\u001b[38;5;124mf\u001b[39m\u001b[38;5;124m\"\u001b[39m\u001b[38;5;124mMessages have been saved to \u001b[39m\u001b[38;5;132;01m{\u001b[39;00moutput_file\u001b[38;5;132;01m}\u001b[39;00m\u001b[38;5;124m!\u001b[39m\u001b[38;5;124m\"\u001b[39m)\n\u001b[0;32m     42\u001b[0m \u001b[38;5;66;03m# Main function to execute the scraper\u001b[39;00m\n\u001b[1;32m---> 43\u001b[0m \u001b[38;5;28;43;01mwith\u001b[39;49;00m\u001b[43m \u001b[49m\u001b[43mclient\u001b[49m\u001b[43m:\u001b[49m\n\u001b[0;32m     44\u001b[0m \u001b[43m    \u001b[49m\u001b[43mchat_username\u001b[49m\u001b[43m \u001b[49m\u001b[38;5;241;43m=\u001b[39;49m\u001b[43m \u001b[49m\u001b[38;5;124;43m'\u001b[39;49m\u001b[38;5;124;43m@Stock Discussions\u001b[39;49m\u001b[38;5;124;43m'\u001b[39;49m\u001b[43m  \u001b[49m\u001b[38;5;66;43;03m# Replace with the channel or group username\u001b[39;49;00m\n\u001b[0;32m     45\u001b[0m \u001b[43m    \u001b[49m\u001b[43moutput_file\u001b[49m\u001b[43m \u001b[49m\u001b[38;5;241;43m=\u001b[39;49m\u001b[43m \u001b[49m\u001b[38;5;124;43m'\u001b[39;49m\u001b[38;5;124;43mtelegram_messages.csv\u001b[39;49m\u001b[38;5;124;43m'\u001b[39;49m\u001b[43m  \u001b[49m\u001b[38;5;66;43;03m# Output CSV file\u001b[39;49;00m\n",
      "File \u001b[1;32mc:\\Users\\latik\\AppData\\Local\\Programs\\Python\\Python311\\Lib\\site-packages\\telethon\\helpers.py:214\u001b[0m, in \u001b[0;36m_sync_enter\u001b[1;34m(self)\u001b[0m\n\u001b[0;32m    211\u001b[0m     loop \u001b[38;5;241m=\u001b[39m \u001b[38;5;28mself\u001b[39m\u001b[38;5;241m.\u001b[39m_client\u001b[38;5;241m.\u001b[39mloop\n\u001b[0;32m    213\u001b[0m \u001b[38;5;28;01mif\u001b[39;00m loop\u001b[38;5;241m.\u001b[39mis_running():\n\u001b[1;32m--> 214\u001b[0m     \u001b[38;5;28;01mraise\u001b[39;00m \u001b[38;5;167;01mRuntimeError\u001b[39;00m(\n\u001b[0;32m    215\u001b[0m         \u001b[38;5;124m'\u001b[39m\u001b[38;5;124mYou must use \u001b[39m\u001b[38;5;124m\"\u001b[39m\u001b[38;5;124masync with\u001b[39m\u001b[38;5;124m\"\u001b[39m\u001b[38;5;124m if the event loop \u001b[39m\u001b[38;5;124m'\u001b[39m\n\u001b[0;32m    216\u001b[0m         \u001b[38;5;124m'\u001b[39m\u001b[38;5;124mis running (i.e. you are inside an \u001b[39m\u001b[38;5;124m\"\u001b[39m\u001b[38;5;124masync def\u001b[39m\u001b[38;5;124m\"\u001b[39m\u001b[38;5;124m)\u001b[39m\u001b[38;5;124m'\u001b[39m\n\u001b[0;32m    217\u001b[0m     )\n\u001b[0;32m    219\u001b[0m \u001b[38;5;28;01mreturn\u001b[39;00m loop\u001b[38;5;241m.\u001b[39mrun_until_complete(\u001b[38;5;28mself\u001b[39m\u001b[38;5;241m.\u001b[39m\u001b[38;5;21m__aenter__\u001b[39m())\n",
      "\u001b[1;31mRuntimeError\u001b[0m: You must use \"async with\" if the event loop is running (i.e. you are inside an \"async def\")"
     ]
    }
   ],
   "source": [
    "from telethon import TelegramClient\n",
    "import csv\n",
    "\n",
    "# API credentials\n",
    "api_id = 21371851  # Replace with your API ID\n",
    "api_hash = '2919605a4a10532744215edebefc5a46'  # Replace with your Hash ID\n",
    "bot_token = '7584106361:AAGZ0-qZGCLsDRyYCnPCJaw-XIPGZ0oJjQ8'  # Replace with your bot token\n",
    "\n",
    "# Initialize the Telegram Client\n",
    "from telethon.sessions import StringSession\n",
    "\n",
    "client = TelegramClient(StringSession(), api_id, api_hash)\n",
    "\n",
    "\n",
    "async def scrape_telegram_messages(chat_username, output_file, message_limit=100):\n",
    "    \"\"\"\n",
    "    Scrapes messages from a Telegram chat and saves them to a CSV file.\n",
    "    \"\"\"\n",
    "    # Connect to the Telegram server\n",
    "    await client.start(bot_token=bot_token)\n",
    "    print(\"Connected to Telegram API!\")\n",
    "\n",
    "    # Access the chat by username or ID\n",
    "    chat = await client.get_entity(chat_username)\n",
    "\n",
    "    # Fetch messages from the chat\n",
    "    messages = await client.get_messages(chat, limit=message_limit)\n",
    "\n",
    "    # Open a CSV file to save the messages\n",
    "    with open(output_file, 'w', newline='', encoding='utf-8') as file:\n",
    "        writer = csv.writer(file)\n",
    "        writer.writerow(['Message', 'Sender', 'Date'])  # CSV Header\n",
    "        \n",
    "        for msg in messages:\n",
    "            text = msg.text or \"Media/Non-text Content\"\n",
    "            sender = msg.sender_id if msg.sender_id else \"N/A\"\n",
    "            date = msg.date\n",
    "            writer.writerow([text, sender, date])\n",
    "\n",
    "    print(f\"Messages have been saved to {output_file}!\")\n",
    "\n",
    "# Main function to execute the scraper\n",
    "with client:\n",
    "    chat_username = '@Stock Discussions'  # Replace with the channel or group username\n",
    "    output_file = 'telegram_messages.csv'  # Output CSV file\n",
    "    client.loop.run_until_complete(scrape_telegram_messages(chat_username, output_file))\n"
   ]
  },
  {
   "cell_type": "code",
   "execution_count": null,
   "metadata": {},
   "outputs": [],
   "source": []
  }
 ],
 "metadata": {
  "kernelspec": {
   "display_name": "Python 3",
   "language": "python",
   "name": "python3"
  },
  "language_info": {
   "codemirror_mode": {
    "name": "ipython",
    "version": 3
   },
   "file_extension": ".py",
   "mimetype": "text/x-python",
   "name": "python",
   "nbconvert_exporter": "python",
   "pygments_lexer": "ipython3",
   "version": "3.11.9"
  }
 },
 "nbformat": 4,
 "nbformat_minor": 2
}
